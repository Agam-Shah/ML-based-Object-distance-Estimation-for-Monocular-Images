{
 "cells": [
  {
   "cell_type": "code",
   "execution_count": 1,
   "id": "44e4628c",
   "metadata": {},
   "outputs": [],
   "source": [
    "import warnings\n",
    "warnings.filterwarnings('ignore')\n",
    "import pickle\n",
    "import cv2\n",
    "import numpy as np"
   ]
  },
  {
   "cell_type": "code",
   "execution_count": 3,
   "id": "9714e441",
   "metadata": {},
   "outputs": [],
   "source": [
    "# pip install -qr https://raw.githubusercontent.com/ultralytics/yolov5/master/requirements.txt"
   ]
  },
  {
   "cell_type": "markdown",
   "id": "0cb19dcd",
   "metadata": {},
   "source": [
    "### Load Pretrained Models for Distance Estimation"
   ]
  },
  {
   "cell_type": "code",
   "execution_count": 33,
   "id": "da5a99ca",
   "metadata": {},
   "outputs": [
    {
     "name": "stdout",
     "output_type": "stream",
     "text": [
      "Linear Regression Model Loaded Successfully\n"
     ]
    }
   ],
   "source": [
    "import pickle\n",
    "import os \n",
    "from tensorflow import keras\n",
    "model_dir = \"model\"\n",
    "model_name = 'LinearRegression'\n",
    "model_path = os.path.join(model_dir, model_name)\n",
    "pkl_filename = model_path + \"/mlr_model.pkl\"\n",
    "\n",
    "with open(pkl_filename, 'rb') as file:\n",
    "    mlr_model = pickle.load(file)\n",
    "    print(\"Linear Regression Model Loaded Successfully\")"
   ]
  },
  {
   "cell_type": "code",
   "execution_count": 42,
   "id": "4c598d1e",
   "metadata": {},
   "outputs": [
    {
     "name": "stdout",
     "output_type": "stream",
     "text": [
      "Ridge Regression Model Loaded Successfully\n"
     ]
    }
   ],
   "source": [
    "\n",
    "model_dir = \"model\"\n",
    "model_name = 'ridge'\n",
    "model_path = os.path.join(model_dir, model_name)\n",
    "pkl_filename = model_path + \"/ridge_model.pkl\"\n",
    "\n",
    "with open(pkl_filename, 'rb') as file:\n",
    "    ridge_model = pickle.load(file)\n",
    "    print(\"Ridge Regression Model Loaded Successfully\")"
   ]
  },
  {
   "cell_type": "code",
   "execution_count": 35,
   "id": "d2abce94",
   "metadata": {},
   "outputs": [
    {
     "name": "stdout",
     "output_type": "stream",
     "text": [
      "Lasso Regression Model Loaded Successfully\n"
     ]
    }
   ],
   "source": [
    "model_dir = \"model\"\n",
    "model_name = 'Lasso'\n",
    "model_path = os.path.join(model_dir, model_name)\n",
    "pkl_filename = model_path + \"/lasso_model.pkl\"\n",
    "\n",
    "with open(pkl_filename, 'rb') as file:\n",
    "    lasso_model = pickle.load(file)\n",
    "    print(\"Lasso Regression Model Loaded Successfully\")"
   ]
  },
  {
   "cell_type": "code",
   "execution_count": 36,
   "id": "d6f0cd78",
   "metadata": {},
   "outputs": [
    {
     "name": "stdout",
     "output_type": "stream",
     "text": [
      "Knn Regression Model Loaded Successfully\n"
     ]
    }
   ],
   "source": [
    "model_dir = \"model\"\n",
    "model_name = 'Knn'\n",
    "model_path = os.path.join(model_dir, model_name)\n",
    "pkl_filename = model_path + \"/knn_model.pkl\"\n",
    "\n",
    "with open(pkl_filename, 'rb') as file:\n",
    "    knn_model = pickle.load(file)\n",
    "    print(\"Knn Regression Model Loaded Successfully\")"
   ]
  },
  {
   "cell_type": "code",
   "execution_count": 37,
   "id": "a5e14a52",
   "metadata": {},
   "outputs": [
    {
     "name": "stdout",
     "output_type": "stream",
     "text": [
      "Support Vector Regression Model Loaded Successfully\n"
     ]
    }
   ],
   "source": [
    "model_dir = \"model\"\n",
    "model_name = 'SVM'\n",
    "model_path = os.path.join(model_dir, model_name)\n",
    "pkl_filename = model_path + \"/svm.pkl\"\n",
    "\n",
    "with open(pkl_filename, 'rb') as file:\n",
    "    SVM = pickle.load(file)\n",
    "    print(\"Support Vector Regression Model Loaded Successfully\")"
   ]
  },
  {
   "cell_type": "code",
   "execution_count": 38,
   "id": "1aff0f2f",
   "metadata": {},
   "outputs": [
    {
     "name": "stdout",
     "output_type": "stream",
     "text": [
      "Decision Tree Regression Model Loaded Successfully\n"
     ]
    }
   ],
   "source": [
    "model_dir = \"model\"\n",
    "model_name = 'DecisionTree'\n",
    "model_path = os.path.join(model_dir, model_name)\n",
    "pkl_filename = model_path + \"/DT_regressor.pkl\"\n",
    "\n",
    "with open(pkl_filename, 'rb') as file:\n",
    "    DT_regressor = pickle.load(file)\n",
    "    print(\"Decision Tree Regression Model Loaded Successfully\")"
   ]
  },
  {
   "cell_type": "code",
   "execution_count": 39,
   "id": "e90b90ae",
   "metadata": {},
   "outputs": [
    {
     "name": "stdout",
     "output_type": "stream",
     "text": [
      "Random Forest Regression Model Loaded Successfully\n"
     ]
    }
   ],
   "source": [
    "model_dir = \"model\"\n",
    "model_name = 'Randomforest'\n",
    "model_path = os.path.join(model_dir, model_name)\n",
    "pkl_filename = model_path + \"/rf_model.pkl\"\n",
    "\n",
    "with open(pkl_filename, 'rb') as file:\n",
    "    rf_model = pickle.load(file)\n",
    "    print(\"Random Forest Regression Model Loaded Successfully\")"
   ]
  },
  {
   "cell_type": "code",
   "execution_count": 40,
   "id": "1dd80fbf",
   "metadata": {},
   "outputs": [
    {
     "name": "stdout",
     "output_type": "stream",
     "text": [
      "Simple Neural Network Regression Model Loaded Successfully\n"
     ]
    }
   ],
   "source": [
    "\n",
    "SNN = keras.models.load_model('model/SNN/SNN.pb')\n",
    "\n",
    "print(\"Simple Neural Network Regression Model Loaded Successfully\")"
   ]
  },
  {
   "cell_type": "code",
   "execution_count": 41,
   "id": "24083c96",
   "metadata": {},
   "outputs": [
    {
     "name": "stdout",
     "output_type": "stream",
     "text": [
      "LSTM Regression Model Loaded Successfully\n"
     ]
    }
   ],
   "source": [
    "LSTM = keras.models.load_model('model/LSTM/lstm.h5')\n",
    "\n",
    "print(\"LSTM Regression Model Loaded Successfully\")"
   ]
  },
  {
   "cell_type": "markdown",
   "id": "892013d4",
   "metadata": {},
   "source": [
    "### Load the Pretrained Yolov5 Object Detection Model"
   ]
  },
  {
   "cell_type": "code",
   "execution_count": 74,
   "id": "9cafceea",
   "metadata": {},
   "outputs": [
    {
     "name": "stderr",
     "output_type": "stream",
     "text": [
      "Using cache found in C:\\Users\\ASUS/.cache\\torch\\hub\\ultralytics_yolov5_master\n",
      "YOLOv5 🚀 2022-8-13 Python-3.9.7 torch-1.12.1+cpu CPU\n",
      "\n",
      "Fusing layers... \n",
      "YOLOv5s summary: 213 layers, 7225885 parameters, 0 gradients\n",
      "Adding AutoShape... \n",
      "Saved 1 image to \u001b[1mruns\\detect\\exp38\u001b[0m\n"
     ]
    },
    {
     "name": "stdout",
     "output_type": "stream",
     "text": [
      "image 1/1: 1280x960 1 person, 1 bench\n",
      "Speed: 26.0ms pre-process, 194.0ms inference, 1.0ms NMS per image at shape (1, 3, 640, 480)\n"
     ]
    },
    {
     "data": {
      "text/html": [
       "<div>\n",
       "<style scoped>\n",
       "    .dataframe tbody tr th:only-of-type {\n",
       "        vertical-align: middle;\n",
       "    }\n",
       "\n",
       "    .dataframe tbody tr th {\n",
       "        vertical-align: top;\n",
       "    }\n",
       "\n",
       "    .dataframe thead th {\n",
       "        text-align: right;\n",
       "    }\n",
       "</style>\n",
       "<table border=\"1\" class=\"dataframe\">\n",
       "  <thead>\n",
       "    <tr style=\"text-align: right;\">\n",
       "      <th></th>\n",
       "      <th>xmin</th>\n",
       "      <th>ymin</th>\n",
       "      <th>xmax</th>\n",
       "      <th>ymax</th>\n",
       "      <th>confidence</th>\n",
       "      <th>class</th>\n",
       "      <th>name</th>\n",
       "    </tr>\n",
       "  </thead>\n",
       "  <tbody>\n",
       "    <tr>\n",
       "      <th>0</th>\n",
       "      <td>367.494202</td>\n",
       "      <td>267.399109</td>\n",
       "      <td>621.922668</td>\n",
       "      <td>567.702576</td>\n",
       "      <td>0.853258</td>\n",
       "      <td>0</td>\n",
       "      <td>person</td>\n",
       "    </tr>\n",
       "    <tr>\n",
       "      <th>1</th>\n",
       "      <td>0.000000</td>\n",
       "      <td>526.482788</td>\n",
       "      <td>926.175171</td>\n",
       "      <td>1273.121216</td>\n",
       "      <td>0.414770</td>\n",
       "      <td>13</td>\n",
       "      <td>bench</td>\n",
       "    </tr>\n",
       "  </tbody>\n",
       "</table>\n",
       "</div>"
      ],
      "text/plain": [
       "         xmin        ymin        xmax         ymax  confidence  class    name\n",
       "0  367.494202  267.399109  621.922668   567.702576    0.853258      0  person\n",
       "1    0.000000  526.482788  926.175171  1273.121216    0.414770     13   bench"
      ]
     },
     "execution_count": 74,
     "metadata": {},
     "output_type": "execute_result"
    }
   ],
   "source": [
    "import torch\n",
    "\n",
    "# Model\n",
    "yolov5model = torch.hub.load('ultralytics/yolov5', 'yolov5s', pretrained=True)\n",
    "\n",
    "# Images\n",
    "imgs = ['test_images/person_278.jpeg']  # batch of images\n",
    "image_name = 'test_images/person_278.jpeg'\n",
    "# Inference\n",
    "results = yolov5model(imgs)\n",
    "\n",
    "# Results\n",
    "results.print()\n",
    "results.save()  # or .show()\n",
    "\n",
    "results.xyxy[0]  # img1 predictions (tensor)\n",
    "results.pandas().xyxy[0]"
   ]
  },
  {
   "cell_type": "code",
   "execution_count": 75,
   "id": "9d7f087d",
   "metadata": {},
   "outputs": [],
   "source": [
    "df = results.pandas().xyxy[0]"
   ]
  },
  {
   "cell_type": "code",
   "execution_count": 76,
   "id": "be5581e4",
   "metadata": {},
   "outputs": [
    {
     "data": {
      "text/html": [
       "<div>\n",
       "<style scoped>\n",
       "    .dataframe tbody tr th:only-of-type {\n",
       "        vertical-align: middle;\n",
       "    }\n",
       "\n",
       "    .dataframe tbody tr th {\n",
       "        vertical-align: top;\n",
       "    }\n",
       "\n",
       "    .dataframe thead th {\n",
       "        text-align: right;\n",
       "    }\n",
       "</style>\n",
       "<table border=\"1\" class=\"dataframe\">\n",
       "  <thead>\n",
       "    <tr style=\"text-align: right;\">\n",
       "      <th></th>\n",
       "      <th>xmin</th>\n",
       "      <th>ymin</th>\n",
       "      <th>xmax</th>\n",
       "      <th>ymax</th>\n",
       "      <th>confidence</th>\n",
       "      <th>class</th>\n",
       "      <th>name</th>\n",
       "    </tr>\n",
       "  </thead>\n",
       "  <tbody>\n",
       "    <tr>\n",
       "      <th>0</th>\n",
       "      <td>367.494202</td>\n",
       "      <td>267.399109</td>\n",
       "      <td>621.922668</td>\n",
       "      <td>567.702576</td>\n",
       "      <td>0.853258</td>\n",
       "      <td>0</td>\n",
       "      <td>person</td>\n",
       "    </tr>\n",
       "    <tr>\n",
       "      <th>1</th>\n",
       "      <td>0.000000</td>\n",
       "      <td>526.482788</td>\n",
       "      <td>926.175171</td>\n",
       "      <td>1273.121216</td>\n",
       "      <td>0.414770</td>\n",
       "      <td>13</td>\n",
       "      <td>bench</td>\n",
       "    </tr>\n",
       "  </tbody>\n",
       "</table>\n",
       "</div>"
      ],
      "text/plain": [
       "         xmin        ymin        xmax         ymax  confidence  class    name\n",
       "0  367.494202  267.399109  621.922668   567.702576    0.853258      0  person\n",
       "1    0.000000  526.482788  926.175171  1273.121216    0.414770     13   bench"
      ]
     },
     "execution_count": 76,
     "metadata": {},
     "output_type": "execute_result"
    }
   ],
   "source": [
    "df.head()"
   ]
  },
  {
   "cell_type": "code",
   "execution_count": 77,
   "id": "66bc4594",
   "metadata": {},
   "outputs": [
    {
     "name": "stdout",
     "output_type": "stream",
     "text": [
      "[[367.49420166015625, 267.39910888671875, 621.9226684570312, 567.7025756835938, 0.8532581925392151, 0, 'person'], [0.0, 526.4827880859375, 926.1751708984375, 1273.1212158203125, 0.4147697985172272, 13, 'bench']]\n"
     ]
    }
   ],
   "source": [
    "eachrow = list()\n",
    "for i in range(df.shape[0]):\n",
    "    eachrow.append(list(df.loc[i]))\n",
    "print(eachrow)"
   ]
  },
  {
   "cell_type": "code",
   "execution_count": 78,
   "id": "882bcc64",
   "metadata": {},
   "outputs": [
    {
     "data": {
      "text/plain": [
       "[[367.49420166015625,\n",
       "  267.39910888671875,\n",
       "  621.9226684570312,\n",
       "  567.7025756835938,\n",
       "  0.8532581925392151,\n",
       "  0],\n",
       " [0.0,\n",
       "  526.4827880859375,\n",
       "  926.1751708984375,\n",
       "  1273.1212158203125,\n",
       "  0.4147697985172272,\n",
       "  13]]"
      ]
     },
     "execution_count": 78,
     "metadata": {},
     "output_type": "execute_result"
    }
   ],
   "source": [
    "box = list()\n",
    "for i in eachrow:\n",
    "    box.append(i[:6])\n",
    "box"
   ]
  },
  {
   "cell_type": "markdown",
   "id": "813d04cc",
   "metadata": {},
   "source": [
    "### Resize Image to original"
   ]
  },
  {
   "cell_type": "code",
   "execution_count": 79,
   "id": "fc13edd4",
   "metadata": {},
   "outputs": [],
   "source": [
    "# import numpy as np\n",
    "\n",
    "# top, left, bottom, right = box\n",
    "# top = max(0, np.floor(top + 0.5).astype('int32'))\n",
    "# left = max(0, np.floor(left + 0.5).astype('int32'))\n",
    "# bottom = min(image.size[1], np.floor(bottom + 0.5).astype('int32'))\n",
    "# right = min(image.size[0], np.floor(right + 0.5).astype('int32'))"
   ]
  },
  {
   "cell_type": "markdown",
   "id": "38bb3b29",
   "metadata": {},
   "source": [
    "### Get image size"
   ]
  },
  {
   "cell_type": "code",
   "execution_count": 80,
   "id": "76641f09",
   "metadata": {},
   "outputs": [
    {
     "name": "stdout",
     "output_type": "stream",
     "text": [
      "(960, 1280)\n"
     ]
    }
   ],
   "source": [
    "from PIL import Image\n",
    "\n",
    "imagetest = Image.open(image_name)\n",
    "img_width, img_height = imagetest.size\n",
    "print(imagetest.size)\n"
   ]
  },
  {
   "cell_type": "markdown",
   "id": "6e182b37",
   "metadata": {},
   "source": [
    "### create the input for models"
   ]
  },
  {
   "cell_type": "code",
   "execution_count": 82,
   "id": "5cfea76b",
   "metadata": {},
   "outputs": [
    {
     "name": "stdout",
     "output_type": "stream",
     "text": [
      "[array([     3.1894,      5.0196,      2.6919,         175,          55,          30]), array([      2.212,      1.3823,      1.1722,         175,          55,          30])]\n",
      "*************************\n",
      "[[('width', 3.1893687707641196), ('height', 5.019607843137255), ('diagonal', 2.691943773416355), ('size_h', 175.0), ('size_w', 55.0), ('size_d', 30.0)], [('width', 2.2119815668202767), ('height', 1.3822894168466524), ('diagonal', 1.1722264907854945), ('size_h', 175.0), ('size_w', 55.0), ('size_d', 30.0)]]\n"
     ]
    }
   ],
   "source": [
    "model_input = list()\n",
    "zipped_list = list()\n",
    "for i in range(len(box)):\n",
    "\n",
    "    temp_input = list()\n",
    "    \n",
    "    top, left, bottom, right = box[i][:4]\n",
    "    top = max(0, np.floor(top + 0.5).astype('int32'))\n",
    "    left = max(0, np.floor(left + 0.5).astype('int32'))\n",
    "    bottom = min(imagetest.size[1], np.floor(bottom + 0.5).astype('int32'))\n",
    "    right = min(imagetest.size[0], np.floor(right + 0.5).astype('int32'))\n",
    "    width = float(right - left) / img_width\n",
    "    height = float(bottom - top) / img_height\n",
    "    diagonal = np.sqrt(np.square(width) + np.square(height))\n",
    "    \n",
    "    if box[i][5] == 0:\n",
    "        class_h, class_w, class_d = np.array([175, 55, 30], dtype=np.float32)\n",
    "    elif box[i][5] == 1:\n",
    "        class_h, class_w, class_d = np.array([120, 30, 170], dtype=np.float32)\n",
    "    elif box[i][5] == 2:                  \n",
    "        class_h, class_w, class_d = np.array([160, 180, 400], dtype=np.float32)\n",
    "        \n",
    "    temp_input = [1 / width, 1 / height, 1 / diagonal, class_h, class_w, class_d]\n",
    "    model_input.append(np.array(temp_input))\n",
    "    \n",
    "    index_name = ['width', 'height', 'diagonal', 'size_h', 'size_w', 'size_d']\n",
    "    zipped_list.append(list(zip(index_name,temp_input)))\n",
    "    \n",
    "print(model_input)\n",
    "print(\"*************************\")\n",
    "print(zipped_list)"
   ]
  },
  {
   "cell_type": "code",
   "execution_count": 83,
   "id": "d6619609",
   "metadata": {},
   "outputs": [],
   "source": [
    "# for i in range(len(box)):\n",
    "#     top, left, bottom, right = box[i]\n",
    "\n",
    "#     width = float(right - left) / img_width\n",
    "#     height = float(bottom - top) / img_height\n",
    "#     diagonal = np.sqrt(np.square(width) + np.square(height))\n",
    "#     class_h, class_w, class_d = np.array([175, 55, 30], dtype=np.float32)\n",
    "#     model_input = [1 / width, 1 / height, 1 / diagonal, class_h, class_w, class_d]\n",
    "#     index_name = ['width', 'height', 'diagonal', 'size_h', 'size_w', 'size_d']\n",
    "#     zipped_list = list(zip(index_name,dist_input))\n",
    "#     model_input = np.array(dist_input)\n",
    "#     print(model_input)\n",
    "#     print(zipped_list)"
   ]
  },
  {
   "cell_type": "code",
   "execution_count": 84,
   "id": "c2ec89e3",
   "metadata": {},
   "outputs": [
    {
     "name": "stdout",
     "output_type": "stream",
     "text": [
      "[[     3.1894      5.0196      2.6919         175          55          30]\n",
      " [      2.212      1.3823      1.1722         175          55          30]]\n",
      "(2, 6)\n"
     ]
    }
   ],
   "source": [
    "test_input = list()\n",
    "test_input = np.array(model_input)\n",
    "print(test_input)\n",
    "print(test_input.shape)"
   ]
  },
  {
   "cell_type": "markdown",
   "id": "c1cdd1da",
   "metadata": {},
   "source": [
    "## Get Distance Prediction using Loaded Models"
   ]
  },
  {
   "cell_type": "code",
   "execution_count": 85,
   "id": "476557ca",
   "metadata": {},
   "outputs": [
    {
     "name": "stdout",
     "output_type": "stream",
     "text": [
      "Linear Regression\n",
      "[6.708183001194545, 4.334927970283264] meter\n",
      "Ridge Regression\n",
      "[6.708384025016809, 4.3350749786526315] meter\n",
      "Lasso Regression\n",
      "[6.767375577638166, 4.388515052491762] meter\n",
      "Knn\n",
      "[6.2521758964447525, 3.1937053626424516] meter\n",
      "SVM\n",
      "[5.5913147881255725, 2.2113084510616403] meter\n",
      "Decision Tree\n",
      "[6.72434584217368, 2.5351614626971157] meter\n",
      "Random Forest\n",
      "[7.667660862914906, 2.068088338175786] meter\n",
      "Simple Neural Network\n",
      "[8.056522, 2.496179] meter\n",
      "Long term Short Term\n",
      "[8.475243, 3.358922] meter\n"
     ]
    }
   ],
   "source": [
    "#Linear Regression\n",
    "mlr_distance = mlr_model.predict(test_input)\n",
    "mlr_distance = list(mlr_distance)\n",
    "print(\"Linear Regression\")\n",
    "print(mlr_distance,\"meter\")\n",
    "\n",
    "\n",
    "# Ridge Regression\n",
    "ridge_distance = ridge_model.predict(test_input)\n",
    "ridge_distance = list(ridge_distance)\n",
    "print(\"Ridge Regression\")\n",
    "print(ridge_distance,\"meter\")\n",
    "\n",
    "\n",
    "# Lasso Regression\n",
    "lasso_distance = lasso_model.predict(test_input)\n",
    "lasso_distance = list(lasso_distance)\n",
    "print(\"Lasso Regression\")\n",
    "print(lasso_distance,\"meter\")\n",
    "\n",
    "\n",
    "# KNN\n",
    "knn_distance = knn_model.predict(test_input)\n",
    "knn_distance = list(knn_distance)\n",
    "print(\"Knn\")\n",
    "print(knn_distance,\"meter\")\n",
    "\n",
    "\n",
    "# SVM\n",
    "SVM_Distance = SVM.predict(test_input)\n",
    "SVM_Distance = list(SVM_Distance)\n",
    "print(\"SVM\")\n",
    "print(SVM_Distance,\"meter\")\n",
    "\n",
    "\n",
    "# Decision Tree\n",
    "DT_Distance = DT_regressor.predict(test_input)\n",
    "DT_Distance = list(DT_Distance)\n",
    "print(\"Decision Tree\")\n",
    "print(DT_Distance,\"meter\")\n",
    "\n",
    "\n",
    "# Random Forest\n",
    "rf_Distance = rf_model.predict(test_input)\n",
    "rf_Distance = list(rf_Distance)\n",
    "print(\"Random Forest\")\n",
    "print(rf_Distance,\"meter\")\n",
    "\n",
    "\n",
    "# SNN\n",
    "SNN_Distance = SNN.predict(test_input)\n",
    "temp_snn = []\n",
    "for i in SNN_Distance:\n",
    "    temp_snn.extend(i)\n",
    "SNN_Distance = temp_snn\n",
    "print(\"Simple Neural Network\")\n",
    "print(SNN_Distance,\"meter\")\n",
    "\n",
    "\n",
    "# LSTM\n",
    "LSTM_Distance = LSTM.predict(test_input)\n",
    "temp_lstm = []\n",
    "for j in LSTM_Distance:\n",
    "    temp_lstm.extend(j)\n",
    "LSTM_Distance = temp_lstm\n",
    "print(\"Long term Short Term\")\n",
    "print(LSTM_Distance,\"meter\")"
   ]
  },
  {
   "cell_type": "code",
   "execution_count": 86,
   "id": "41bf6167",
   "metadata": {},
   "outputs": [
    {
     "name": "stdout",
     "output_type": "stream",
     "text": [
      "tensor([367.49420, 267.39911, 621.92267, 567.70258,   0.85326,   0.00000])\n",
      "tensor([0.00000e+00, 5.26483e+02, 9.26175e+02, 1.27312e+03, 4.14770e-01, 1.30000e+01])\n"
     ]
    }
   ],
   "source": [
    "for box in results.xyxy[0]:\n",
    "    print(box)"
   ]
  },
  {
   "cell_type": "code",
   "execution_count": 88,
   "id": "9c39c590",
   "metadata": {},
   "outputs": [],
   "source": [
    "import cv2\n",
    "index = 0\n",
    "frame = cv2.imread(image_name)\n",
    "\n",
    "for box in results.xyxy[0]:\n",
    "\n",
    "    if box[5]==0:\n",
    "        xB = int(box[2])\n",
    "        xA = int(box[0])\n",
    "        yB = int(box[3])\n",
    "        yA = int(box[1])\n",
    "        rect1 = cv2.rectangle(frame, (xA, yA), (xB, yB), (0, 255, 0), 1)\n",
    "        cv2.putText(rect1, str(SVM_Distance[index])+'meter', (xA,yA-10), cv2.FONT_HERSHEY_SIMPLEX, 0.7, (36,255,12), 2)\n",
    "        \n",
    "    if box[5]==1:\n",
    "        xB = int(box[2])\n",
    "        xA = int(box[0])\n",
    "        yB = int(box[3])\n",
    "        yA = int(box[1])\n",
    "        rect2 = cv2.rectangle(frame, (xA, yA), (xB, yB), (0, 255, 0), 1)\n",
    "        cv2.putText(rect2, str(SVM_Distance[index]), (xA,yA-10), cv2.FONT_HERSHEY_SIMPLEX, 0.5, (36,255,12), 1)\n",
    "        \n",
    "    if box[5]==2:\n",
    "        xB = int(box[2])\n",
    "        xA = int(box[0])\n",
    "        yB = int(box[3])\n",
    "        yA = int(box[1])\n",
    "        rect2 = cv2.rectangle(frame, (xA, yA), (xB, yB), (0, 255, 0), 1)\n",
    "        cv2.putText(rect2, str(SVM_Distance[index]), (xA,yA-10), cv2.FONT_HERSHEY_SIMPLEX, 0.5, (36,255,12), 1)\n",
    "    index = index + 1\n",
    "    \n",
    "cv2.imshow(\"OutputWindow\",frame)\n",
    "# cv2.imwrite(\"\"output_image)\n",
    "cv2.waitKey(0)\n",
    "cv2.destroyAllWindows()"
   ]
  },
  {
   "cell_type": "code",
   "execution_count": 25,
   "id": "47426e5c",
   "metadata": {},
   "outputs": [
    {
     "data": {
      "text/plain": [
       "True"
      ]
     },
     "execution_count": 25,
     "metadata": {},
     "output_type": "execute_result"
    }
   ],
   "source": [
    "cv2.imwrite(\"output1.png\",frame)"
   ]
  },
  {
   "cell_type": "code",
   "execution_count": null,
   "id": "9454e407",
   "metadata": {},
   "outputs": [],
   "source": []
  }
 ],
 "metadata": {
  "kernelspec": {
   "display_name": "Python 3 (ipykernel)",
   "language": "python",
   "name": "python3"
  },
  "language_info": {
   "codemirror_mode": {
    "name": "ipython",
    "version": 3
   },
   "file_extension": ".py",
   "mimetype": "text/x-python",
   "name": "python",
   "nbconvert_exporter": "python",
   "pygments_lexer": "ipython3",
   "version": "3.9.7"
  }
 },
 "nbformat": 4,
 "nbformat_minor": 5
}
